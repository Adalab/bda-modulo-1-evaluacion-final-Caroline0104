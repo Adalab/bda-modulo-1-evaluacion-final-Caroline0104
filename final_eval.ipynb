{
 "cells": [
  {
   "cell_type": "markdown",
   "id": "8f6407f8",
   "metadata": {},
   "source": [
    "No he sido capaz de terminar el ejercicio. He intentado buscar varios planteamientos, verlo de manera individual, pero siento que no tengo o el razonamiento o los conocimientos para desarrollarlo."
   ]
  },
  {
   "cell_type": "code",
   "execution_count": null,
   "id": "8b728737",
   "metadata": {},
   "outputs": [],
   "source": [
    "class Tienda0nline:\n",
    "\n",
    "#estamos haciendo la clase de tienda online, teniendo en cuenta sus dos atributos \n",
    "    def __init__(self, inventario, ventas_totales):\n",
    "        self.inventario=[]\n",
    "        self.ventas_totales= float(0)\n",
    "        self.inventario1= [{\"nombre\": \"Camisa\", \"precio\": 20, \"cantidad\": 40},{\"nombre\": \"Pantalón\", \"precio\": 30, \"cantidad\": 30}] \n",
    "    def  agregar_producto(self, nombre, precio, cantidad):\n",
    "        for producto in self.inventario1:\n",
    "            if producto == nombre:   # me pide que compare el producto con el nombre. Si ya existe se actualiza y si no se añade\n",
    "               print(\"Ya existe, actualiza cantidad\")\n",
    "               producto += cantidad   #por eso digo que al existir producto se actualice cantidad\n",
    "            elif producto != nombre:        #si no existe se añade un nuevo producto\n",
    "                return\n",
    "    def buscar_producto(self, nombre): # me pide que busque un producto, pero en concreto no se com hacerlo\n",
    "        for producto in self.inventario1:\n",
    "            if camisa == nombre:\n",
    "                print(\"coincide\")          # a partir de aquí no sabia como continuar, por lo que he ido planteando el problema, aunque sin obtencion de solucion\n",
    "    def actualizar_stock(self, nombre, cantidad):\n",
    "        for producto in nombre and cantidad:\n",
    "            if \"Camisa\" in nombre:\n",
    "                print(\"ya está ese producto\")\n",
    "            else:\n",
    "                print(\"no se encuentra en el inventario, es un nuevo producto\")\n",
    "    def eliminar_producto(self, nombre)\n",
    "        for nombre in self.inventario1:\n",
    "            if producto in nombre: nombre.pop():\n",
    "                print(f\"{Producto}Ya en inventario, borrar producto\")\n",
    "        else:\n",
    "            print(f\"{Producto}, no se encuentra en inventario\")\n",
    "        \n",
    "    def calcular_valor_inventario(self)"
   ]
  }
 ],
 "metadata": {
  "kernelspec": {
   "display_name": "base",
   "language": "python",
   "name": "python3"
  },
  "language_info": {
   "name": "python",
   "version": "3.12.7"
  }
 },
 "nbformat": 4,
 "nbformat_minor": 5
}
