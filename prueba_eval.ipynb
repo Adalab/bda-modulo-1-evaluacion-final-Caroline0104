{
 "cells": [
  {
   "cell_type": "code",
   "execution_count": null,
   "id": "1e4a7af6",
   "metadata": {},
   "outputs": [],
   "source": [
    "class Tienda0nline:\n",
    "\n",
    "#estamos haciendo la clase de tienda online, teniendo en cuenta sus dos atributos \n",
    "    def __init__(self, inventario, ventas_totales):\n",
    "        self.inventario=[]\n",
    "        self.ventas_totales= float(0)\n",
    "        self.inventario1= [{\"nombre\": \"Camisa\", \"precio\": 20, \"cantidad\": 40},{\"nombre\": \"Pantalón\", \"precio\": 30, \"cantidad\": 30}] \n",
    "    def  agregar_producto(self, nombre, precio, cantidad):\n",
    "        for producto in self.inventario1:\n",
    "            if producto == nombre:   # me pide que compare el producto con el nombre. Si ya existe se actualiza y si no se añade\n",
    "               print(\"Ya existe, actualiza cantidad\")\n",
    "               producto += cantidad   #por eso digo que al existir producto se actualice cantidad\n",
    "            elif producto != nombre:        #si no existe se añade un nuevo producto\n",
    "                return\n",
    "    def buscar_producto(self, nombre): # me pide que busque un producto, pero en concreto no se com hacerlo\n",
    "        for producto in self.inventario1:\n",
    "            if camisa == nombre:\n",
    "                print(\"coincide\")          # a partir de aquí no sabia como continuar, por lo que he ido planteando el problema, aunque sin obtencion de solucion\n",
    "    def actualizar_stock(self, nombre, cantidad):\n",
    "        for producto in nombre and cantidad:\n",
    "            if \"Camisa\" in nombre:\n",
    "                print(\"ya está ese producto\")\n",
    "            else:\n",
    "                print(\"no se encuentra en el inventario, es un nuevo producto\")\n",
    "    def eliminar_producto(self, nombre)\n",
    "        for nombre in self.inventario1:\n",
    "            if producto in nombre: nombre.pop():\n",
    "                print(f\"{Producto}Ya en inventario, borrar producto\")\n",
    "        else:\n",
    "            print(f\"{Producto}, no se encuentra en inventario\")\n",
    "        \n",
    "    def calcular_valor_inventario(self)"
   ]
  },
  {
   "cell_type": "code",
   "execution_count": null,
   "id": "e3b152fc",
   "metadata": {},
   "outputs": [],
   "source": [
    "#me habla de sus metodos agregar_producto y ver_inventario y sus condiciones    \n",
    "    \n",
    "def agregar_producto(self, nombre, precio, cantidad):\n",
    "        for producto in self.inventario\n",
    "            if producto == nombre:   # me pide que compare el producto con el nombre. Si ya existe se actualiza y si no se añade\n",
    "               print(\"Ya existe, actualiza cantidad\")\n",
    "               producto += cantidad   #por eso digo que al existir producto se actualice cantidad\n",
    "            elif producto != nombre:        #si no existe se añade un nuevo producto\n",
    "                print(\"no existe, agrega un nuevo producto\") "
   ]
  },
  {
   "cell_type": "code",
   "execution_count": null,
   "id": "d069f983",
   "metadata": {},
   "outputs": [],
   "source": [
    "\n",
    "def ver_inventario(self): #no se como hacer esta parte\n",
    "    \n"
   ]
  },
  {
   "cell_type": "code",
   "execution_count": null,
   "id": "e3ffabf2",
   "metadata": {},
   "outputs": [],
   "source": [
    "def buscar_producto(self, nombre)"
   ]
  },
  {
   "cell_type": "code",
   "execution_count": 47,
   "id": "3b0349f7",
   "metadata": {},
   "outputs": [],
   "source": [
    "class TiendaOnline:\n",
    "    def __init__(self):\n",
    "        self.inventario = []          \n",
    "        self.ventas_totales = float(0)\n",
    "        \n"
   ]
  },
  {
   "cell_type": "code",
   "execution_count": null,
   "id": "16e5a442",
   "metadata": {},
   "outputs": [],
   "source": [
    "def buscar_producto(self, nombre):\n",
    "    for producto in self.inventario:\n",
    "        if producto== nombre:\n",
    "        \n",
    "        elif producto != nombre "
   ]
  },
  {
   "cell_type": "code",
   "execution_count": null,
   "id": "6e0f25be",
   "metadata": {},
   "outputs": [],
   "source": [
    "def  actualizar_stock(self, nombre, cantidad)\n",
    "    "
   ]
  },
  {
   "cell_type": "code",
   "execution_count": null,
   "id": "00f24377",
   "metadata": {},
   "outputs": [],
   "source": [
    "class TiendaOnline:\n",
    "    def __init__(self):\n",
    "        self.inventario = []          \n",
    "        self.ventas_totales = float(0)\n",
    "    def agregar_producto(self, nombre, precio, cantidad):\n",
    "        for producto in self.inventario:   #el producto entiendo que es lo que estará dentro del diccionario como valor\n",
    "            if producto == nombre:      #en el caso de que producto ya exista, se actualiza cantidad\n",
    "                print(\"actualiza la cantidad\")\n",
    "            elif producto != nombre:      #si no existe, se añade\n",
    "                print(\"Agrega un producto nuevo\")\n",
    "    def ver_inventario(self):\n",
    "        for producto in self.inventario: \n",
    "            print(f\"{nombre}, {precio}, {cantidad}\") #aqui intento imprimir los detalles\n",
    "    def buscar_producto(self, nombre):\n",
    "        for producto in nombre: #me dice que compare el nombre del producto y si se encuentre lo imprime\n",
    "            if nombre==nombre:\n",
    "                print(\"es el mismo nombre\", nombre)\n",
    "            elif nombre!= nombre:\n",
    "                print(\"nombre diferente\")"
   ]
  }
 ],
 "metadata": {
  "kernelspec": {
   "display_name": "base",
   "language": "python",
   "name": "python3"
  },
  "language_info": {
   "codemirror_mode": {
    "name": "ipython",
    "version": 3
   },
   "file_extension": ".py",
   "mimetype": "text/x-python",
   "name": "python",
   "nbconvert_exporter": "python",
   "pygments_lexer": "ipython3",
   "version": "3.12.7"
  }
 },
 "nbformat": 4,
 "nbformat_minor": 5
}
